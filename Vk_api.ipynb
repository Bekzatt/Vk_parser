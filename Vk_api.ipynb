{
 "cells": [
  {
   "cell_type": "code",
   "execution_count": 40,
   "id": "running-booking",
   "metadata": {},
   "outputs": [],
   "source": [
    "# готовые функции\n",
    "\n",
    "import requests\n",
    "import emoji\n",
    "import re\n",
    "\n",
    "token = 'Your Token' # токен\n",
    "version = 5.131 # Версия vk api\n",
    "version_comment = 5.95\n",
    "domain = 'anti_usa_news'\n",
    "\n",
    "def responce_func(params, request_url):\n",
    "    _params={\n",
    "       'v': version,\n",
    "       'access_token': token}\n",
    "    p = {**_params, **params}\n",
    "    response = requests.get(request_url, \n",
    "                            p)\n",
    "    return response.json()\n",
    "        \n",
    "def responce_print(response):\n",
    "    for item in response['response']['items']:\n",
    "        print(item['text'])\n",
    "        print('=======================')\n",
    "        \n",
    "        \n",
    "# удаление эмоции\n",
    "def strip_emoji(text):\n",
    "    new_text = re.sub(emoji.get_emoji_regexp(), r\"\", text)\n",
    "\n",
    "    return new_text\n",
    "\n",
    "# удаление id\n",
    "def clear_id(text): \n",
    "    index2 = text.find(']')\n",
    "    text = text[index2+1:]\n",
    "    return text\n",
    "\n",
    "# удаление пустых мест до символа\n",
    "def strip_str(text):\n",
    "    pos = 0\n",
    "    for i,x in enumerate(text):\n",
    "        if x.isalpha():        \n",
    "            pos = i                   \n",
    "            break\n",
    "\n",
    "    new_str = text[pos:]\n",
    "    return new_str\n",
    "\n",
    "# преобразование к лист\n",
    "def responce_to_list(data):\n",
    "    listt1 = []\n",
    "    listt2 = []\n",
    "    for item in data['response']['items']:\n",
    "        fl_name=get_name(item['id'])\n",
    "        text_filters = strip_str(clear_id(strip_emoji(item['text'])))\n",
    "        if text_filters.isalpha() == False:\n",
    "            listt2.append(fl_name+\",\"+text_filters)\n",
    "            listt2.append(1)\n",
    "            listt1.append(listt2)\n",
    "            listt2 = []\n",
    "    return listt1\n",
    "def get_name(id):\n",
    "    params={'user_ids' : id}\n",
    "    d=responce_func(params, 'https://api.vk.com/method/users.get')\n",
    "    d=dict(d['response'][0])\n",
    "    return d.get('first_name')+\"_\"+d.get('last_name')"
   ]
  },
  {
   "cell_type": "code",
   "execution_count": 41,
   "id": "sunset-grenada",
   "metadata": {},
   "outputs": [
    {
     "name": "stdout",
     "output_type": "stream",
     "text": [
      "Введите: талибан,шахид\n",
      "Успешно записан!\n",
      "Успешно записан!\n"
     ]
    }
   ],
   "source": [
    "# Данные из SEARCH\n",
    "import csv\n",
    "\n",
    "terror_words = input('Введите: ')\n",
    "\n",
    "FILENAME = 'C:/Users/bekza/Desktop/comment_document.csv'\n",
    "\n",
    "for item in terror_words.split(','):\n",
    "    params={\n",
    "           'q' : item,\n",
    "           'count': 200,}\n",
    "    data_search = responce_func(params, 'http://api.vk.com/method/newsfeed.search')\n",
    "    with open(FILENAME, \"w+\", newline=\"\", encoding='UTF-8-sig') as file:\n",
    "        writer = csv.writer(file)\n",
    "        writer.writerows(responce_to_list(data_search))\n",
    "        print('Успешно записан!')"
   ]
  },
  {
   "cell_type": "code",
   "execution_count": 32,
   "id": "ba6cc525",
   "metadata": {},
   "outputs": [
    {
     "data": {
      "text/plain": [
       "'Maria_Lazareva'"
      ]
     },
     "execution_count": 32,
     "metadata": {},
     "output_type": "execute_result"
    }
   ],
   "source": [
    "def get_name(id):\n",
    "    params={'user_ids' : id}\n",
    "    d=responce_func(params, 'https://api.vk.com/method/users.get')\n",
    "    d=dict(d['response'][0])\n",
    "    return d['first_name']+\"_\"+d['last_name']\n",
    "get_name(177421)"
   ]
  }
 ],
 "metadata": {
  "kernelspec": {
   "display_name": "Python 3 (ipykernel)",
   "language": "python",
   "name": "python3"
  },
  "language_info": {
   "codemirror_mode": {
    "name": "ipython",
    "version": 3
   },
   "file_extension": ".py",
   "mimetype": "text/x-python",
   "name": "python",
   "nbconvert_exporter": "python",
   "pygments_lexer": "ipython3",
   "version": "3.9.7"
  }
 },
 "nbformat": 4,
 "nbformat_minor": 5
}
